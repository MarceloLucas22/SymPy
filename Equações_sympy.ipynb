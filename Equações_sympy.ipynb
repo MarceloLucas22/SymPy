{
 "cells": [
  {
   "cell_type": "markdown",
   "id": "551e46e2",
   "metadata": {},
   "source": [
    "### Esse arquivo em Jupyter servirá para colocar os códigos da seção de Resolvendo equações com Sympy"
   ]
  },
  {
   "cell_type": "code",
   "execution_count": 1,
   "id": "1f7751d8",
   "metadata": {},
   "outputs": [
    {
     "data": {
      "text/plain": [
       "[-1, 1]"
      ]
     },
     "execution_count": 1,
     "metadata": {},
     "output_type": "execute_result"
    }
   ],
   "source": [
    "'''\n",
    "descrição : vamos resolver a equação x^2 -1 = 0 \n",
    "usando o SymPy \n",
    "===================================================\n",
    "programador : Marcelo Almeida\n",
    "\n",
    "'''\n",
    "\n",
    "from sympy import symbols , Eq , solve \n",
    "\n",
    "# criando a variável independente :\n",
    "x = symbols('x', real = True)\n",
    "\n",
    "# criando a equação a ser resolvida :\n",
    "equacao = Eq(x**2 - 1 , 0)\n",
    "\n",
    "# resolvendo a equação para x :\n",
    "sol = solve(equacao,x)\n",
    "\n",
    "sol"
   ]
  },
  {
   "cell_type": "code",
   "execution_count": 2,
   "id": "4c7b66c1",
   "metadata": {},
   "outputs": [
    {
     "data": {
      "text/plain": [
       "[{x: -1}, {x: 1}]"
      ]
     },
     "execution_count": 2,
     "metadata": {},
     "output_type": "execute_result"
    }
   ],
   "source": [
    "# retornando a solução como um dicionário :\n",
    "\n",
    "sol2 = solve(equacao,x, dict = True)\n",
    "\n",
    "sol2"
   ]
  },
  {
   "cell_type": "code",
   "execution_count": 3,
   "id": "7c78ce5e",
   "metadata": {},
   "outputs": [
    {
     "data": {
      "image/png": "[encoded data removed]",
      "text/latex": [
       "$\\displaystyle \\left[ \\left\\{ x : \\frac{- b - \\sqrt{- 4 a c + b^{2}}}{2 a}\\right\\}, \\  \\left\\{ x : \\frac{- b + \\sqrt{- 4 a c + b^{2}}}{2 a}\\right\\}\\right]$"
      ],
      "text/plain": [
       "⎡⎧           _____________⎫  ⎧           _____________⎫⎤\n",
       "⎢⎪          ╱           2 ⎪  ⎪          ╱           2 ⎪⎥\n",
       "⎢⎨   -b - ╲╱  -4⋅a⋅c + b  ⎬  ⎨   -b + ╲╱  -4⋅a⋅c + b  ⎬⎥\n",
       "⎢⎪x: ─────────────────────⎪, ⎪x: ─────────────────────⎪⎥\n",
       "⎣⎩            2⋅a         ⎭  ⎩            2⋅a         ⎭⎦"
      ]
     },
     "execution_count": 3,
     "metadata": {},
     "output_type": "execute_result"
    }
   ],
   "source": [
    "'''\n",
    "descrição : obtendo a solução geral da equação ax^2 + bx + c = 0 , \n",
    "em termos dos coefientes a , b e c \n",
    "==============================================================\n",
    "programador : Marcelo Almeida \n",
    "'''\n",
    "from sympy import symbols , Eq , solve , init_printing\n",
    "\n",
    "init_printing(use_latex= True)\n",
    "\n",
    "x = symbols('x', real = True)   # variável independente \n",
    "a,b,c = symbols('a,b,c', real = True )  # coeficientes da equação \n",
    "\n",
    "# criando a equação do 2 grau : \n",
    "equacao = Eq(a*x**2 + b*x + c , 0)\n",
    "\n",
    "# resolvendo : \n",
    "\n",
    "sol = solve(equacao,x, dict = True)\n",
    "\n",
    "sol \n"
   ]
  },
  {
   "cell_type": "code",
   "execution_count": 4,
   "id": "ad5aa77f",
   "metadata": {},
   "outputs": [
    {
     "data": {
      "image/png": "[encoded data removed]",
      "text/latex": [
       "$\\displaystyle \\left[ \\left\\{ x : \\frac{\\pi}{2}\\right\\}\\right]$"
      ],
      "text/plain": [
       "⎡⎧   π⎫⎤\n",
       "⎢⎨x: ─⎬⎥\n",
       "⎣⎩   2⎭⎦"
      ]
     },
     "execution_count": 4,
     "metadata": {},
     "output_type": "execute_result"
    }
   ],
   "source": [
    "'''\n",
    "descrição : Vamos resolver a equação sin(x) -1 = 0 \n",
    "==================================================\n",
    "programador : Marcelo Almeida \n",
    "'''\n",
    "from sympy import symbols , Eq , solve , init_printing, sin \n",
    "\n",
    "\n",
    "init_printing(use_latex= True)\n",
    "\n",
    "x = symbols('x', real = True)   # variável independente \n",
    "\n",
    "# criando a equação : \n",
    "\n",
    "equacao  = Eq(sin(x) -1 , 0)\n",
    "\n",
    "\n",
    "sol = solve(equacao,x,dict = True)\n",
    "\n",
    "sol"
   ]
  },
  {
   "cell_type": "code",
   "execution_count": 5,
   "id": "5cb2873d",
   "metadata": {},
   "outputs": [
    {
     "data": {
      "image/png": "[encoded data removed]",
      "text/latex": [
       "$\\displaystyle \\left[ \\right]$"
      ],
      "text/plain": [
       "[]"
      ]
     },
     "execution_count": 5,
     "metadata": {},
     "output_type": "execute_result"
    }
   ],
   "source": [
    "'''\n",
    "descrição : um exemplo sem solução e outro \n",
    "que não pode ser resolvido\n",
    "====================================\n",
    "programador : Marcelo Almeida \n",
    "'''\n",
    "from sympy import symbols , Eq , solve , init_printing, sin , exp , cos\n",
    "\n",
    "x = symbols('x', real = True)\n",
    "\n",
    "eq1 = Eq(exp(x),0)\n",
    "\n",
    "s = solve(eq1,x)\n",
    "\n",
    "s                 # retorna ua conjunto vazio \n",
    "\n",
    "\n"
   ]
  },
  {
   "cell_type": "code",
   "execution_count": 6,
   "id": "881e0bed",
   "metadata": {},
   "outputs": [
    {
     "data": {
      "image/png": "[encoded data removed]",
      "text/latex": [
       "$\\displaystyle \\left[ \\left\\{ x : 3, \\  y : 2, \\  z : 1\\right\\}\\right]$"
      ],
      "text/plain": [
       "[{x: 3, y: 2, z: 1}]"
      ]
     },
     "execution_count": 6,
     "metadata": {},
     "output_type": "execute_result"
    }
   ],
   "source": [
    "'''\n",
    "descrição : Resolvendo um sistema de equações \n",
    "================================================\n",
    "programador : Marcelo Almeida\n",
    "'''\n",
    "\n",
    "from sympy import symbols, solve , init_printing, Eq\n",
    "\n",
    "init_printing(use_latex=True)\n",
    "\n",
    "x,y,z = symbols('x,y,z', real = True)\n",
    "\n",
    "# criando as equações :\n",
    "eq1, eq2, eq3 = Eq(x+y+z,6) , Eq(x+2*y +2*z,9) , Eq(2*x +y +3*z ,11)\n",
    "\n",
    "# resolvendo o sistema para x,y e z :\n",
    "\n",
    "sol_eq = solve([eq1,eq2,eq3],[x,y,z], dict=True)\n",
    "\n",
    "sol_eq"
   ]
  },
  {
   "cell_type": "code",
   "execution_count": 7,
   "id": "33937fcd",
   "metadata": {},
   "outputs": [
    {
     "name": "stdout",
     "output_type": "stream",
     "text": [
      "x = 3 \n",
      "y = 2 \n",
      "z = 1 \n"
     ]
    }
   ],
   "source": [
    "# mostrando os valores das soluções : \n",
    "\n",
    "for chave,valor in sol_eq[0].items():\n",
    "    \n",
    "    print(f'{chave} = {valor} ')\n",
    "    \n",
    "    "
   ]
  },
  {
   "cell_type": "markdown",
   "id": "b4548e80",
   "metadata": {},
   "source": [
    "## Equações Diferenciais Ordinárias "
   ]
  },
  {
   "cell_type": "code",
   "execution_count": 1,
   "id": "aa0e9b06",
   "metadata": {},
   "outputs": [
    {
     "data": {
      "text/latex": [
       "$\\displaystyle y{\\left(x \\right)} + \\frac{d}{d x} y{\\left(x \\right)} = \\sin{\\left(x \\right)}$"
      ],
      "text/plain": [
       "Eq(y(x) + Derivative(y(x), x), sin(x))"
      ]
     },
     "execution_count": 1,
     "metadata": {},
     "output_type": "execute_result"
    }
   ],
   "source": [
    "'''\n",
    "descrição : Resolvendo uma equação diferencial com SymPy \n",
    "=======================================================\n",
    "programador : Marcelo Almeida \n",
    "'''\n",
    "from sympy import symbols, init_printing, sin , exp , Function , \\\n",
    "Eq , dsolve , diff \n",
    "\n",
    "# criando a variável independente e a função desconhecida \n",
    "x = symbols('x', real = True )\n",
    "y_x = Function('y')(x)\n",
    "\n",
    "# criando a equação diferencial :\n",
    "eq_edo = Eq(diff(y_x,x) + y_x , sin(x))\n",
    "\n",
    "# mostrando a EDO :\n",
    "\n",
    "eq_edo\n"
   ]
  },
  {
   "cell_type": "code",
   "execution_count": 2,
   "id": "0cc6c33d",
   "metadata": {},
   "outputs": [
    {
     "data": {
      "text/latex": [
       "$\\displaystyle y{\\left(x \\right)} = C_{1} e^{- x} + \\frac{\\sin{\\left(x \\right)}}{2} - \\frac{\\cos{\\left(x \\right)}}{2}$"
      ],
      "text/plain": [
       "Eq(y(x), C1*exp(-x) + sin(x)/2 - cos(x)/2)"
      ]
     },
     "execution_count": 2,
     "metadata": {},
     "output_type": "execute_result"
    }
   ],
   "source": [
    "# solucionando a edo :\n",
    "sol_edo  = dsolve(eq_edo, y_x)\n",
    "sol_edo"
   ]
  },
  {
   "cell_type": "code",
   "execution_count": 7,
   "id": "74d6b558",
   "metadata": {},
   "outputs": [
    {
     "data": {
      "text/latex": [
       "$\\displaystyle y{\\left(x \\right)} = \\frac{\\sin{\\left(x \\right)}}{2} - \\frac{\\cos{\\left(x \\right)}}{2} + \\left(\\frac{1}{2} + \\frac{\\pi}{2}\\right) e^{- x}$"
      ],
      "text/plain": [
       "Eq(y(x), sin(x)/2 - cos(x)/2 + (1/2 + pi/2)*exp(-x))"
      ]
     },
     "execution_count": 7,
     "metadata": {},
     "output_type": "execute_result"
    }
   ],
   "source": [
    "'''\n",
    "descrição : Resolvendo uma equação diferencial com um \n",
    "problema de valor inicial com SymPy \n",
    "=======================================================\n",
    "programador : Marcelo Almeida \n",
    "'''\n",
    "from sympy import symbols, init_printing, sin , exp , Function , \\\n",
    "Eq , dsolve , diff , pi \n",
    "from sympy.plotting import plot \n",
    "# criando a variável independente e a função desconhecida \n",
    "x = symbols('x', real = True )\n",
    "y_x = Function('y')(x)\n",
    "# criando a equação diferencial :\n",
    "eq_edo = Eq(diff(y_x,x) + y_x , sin(x))\n",
    "# solucionando o problema de valor inicial \n",
    "sol_ed = dsolve(eq_edo,y_x, ics={y_x.subs({x:0}) : pi/2})\n",
    "\n",
    "# mostrando a solução \n",
    "sol_ed"
   ]
  },
  {
   "cell_type": "code",
   "execution_count": 8,
   "id": "f07c2b17",
   "metadata": {},
   "outputs": [
    {
     "data": {
      "image/png": "[encoded data removed]",
      "text/plain": [
       "<Figure size 432x288 with 1 Axes>"
      ]
     },
     "metadata": {
      "needs_background": "light"
     },
     "output_type": "display_data"
    },
    {
     "data": {
      "text/plain": [
       "<sympy.plotting.plot.Plot at 0x7fd8f6ca46a0>"
      ]
     },
     "execution_count": 8,
     "metadata": {},
     "output_type": "execute_result"
    }
   ],
   "source": [
    "# plotando seu grafico em [0,pi/2]\n",
    "plot(sol_ed.rhs,(x,0,pi/2),x_label='eixo x',y_label='eixo y',title='plote da solução da EDO')"
   ]
  },
  {
   "cell_type": "code",
   "execution_count": 10,
   "id": "d022a0f8",
   "metadata": {},
   "outputs": [
    {
     "data": {
      "image/png": "[encoded data removed]",
      "text/latex": [
       "$\\displaystyle u{\\left(x \\right)} = \\frac{\\left(\\left(1 - e^{2}\\right) \\left(- 6 x^{2} + 20 x - 3 \\sin{\\left(\\frac{3 \\pi x}{2} \\right)} + 1\\right) e^{x} - \\left(1 - 18 e\\right) e^{2 x} + e \\left(-18 + e\\right)\\right) e^{- x}}{1 - e^{2}}$"
      ],
      "text/plain": [
       "       ⎛⎛     2⎞ ⎛     2               ⎛3⋅π⋅x⎞    ⎞  x               2⋅x      \n",
       "       ⎜⎝1 - ℯ ⎠⋅⎜- 6⋅x  + 20⋅x - 3⋅sin⎜─────⎟ + 1⎟⋅ℯ  - (1 - 18⋅ℯ)⋅ℯ    + ℯ⋅(\n",
       "       ⎝         ⎝                     ⎝  2  ⎠    ⎠                           \n",
       "u(x) = ───────────────────────────────────────────────────────────────────────\n",
       "                                                   2                          \n",
       "                                              1 - ℯ                           \n",
       "\n",
       "        ⎞  -x\n",
       "-18 + ℯ)⎟⋅ℯ  \n",
       "        ⎠    \n",
       "─────────────\n",
       "             \n",
       "             "
      ]
     },
     "execution_count": 10,
     "metadata": {},
     "output_type": "execute_result"
    }
   ],
   "source": [
    "'''\n",
    "descrição : solução de uma EDO de 2 ordem \n",
    "não-homogênea \n",
    "============================================\n",
    "programador : Marcelo Almeida \n",
    "'''\n",
    "from sympy import symbols, init_printing, sin , exp , Function , \\\n",
    "Eq , dsolve , diff , pi  \n",
    "from sympy.plotting import plot \n",
    "init_printing(use_latex= True)\n",
    "# criando a variável independente, função e a função do lado direito \n",
    "x = symbols('x', real =  True)\n",
    "u_x = Function('u')(x)\n",
    "h_x = -6*x**2 +20*x +13 -3*sin((3*pi*x)/2) -((27*pi**2)/(4))*sin((3*pi*x)/2)\n",
    "# criando a EDO :\n",
    "edo_eq  = Eq(-diff(u_x,x,2) + u_x,h_x)\n",
    "\n",
    "# solucionando o problema de fronteira :\n",
    "sol_edo = dsolve(edo_eq,u_x,ics={u_x.subs({x:0}):0, u_x.subs({x:1}):0  })\n",
    "sol_edo = sol_edo.simplify()  #simplificando a solução \n",
    "sol_edo"
   ]
  },
  {
   "cell_type": "code",
   "execution_count": 12,
   "id": "88b9cb90",
   "metadata": {},
   "outputs": [
    {
     "data": {
      "image/png": "[encoded data removed]",
      "text/plain": [
       "<Figure size 432x288 with 1 Axes>"
      ]
     },
     "metadata": {
      "needs_background": "light"
     },
     "output_type": "display_data"
    },
    {
     "data": {
      "text/plain": [
       "<sympy.plotting.plot.Plot at 0x7fd8da932dc0>"
      ]
     },
     "execution_count": 12,
     "metadata": {},
     "output_type": "execute_result"
    }
   ],
   "source": [
    "# plote dessa função em [0,1]\n",
    "plot(sol_edo.rhs,(x,0,1),x_label='x',y_label='y',title='plote da solução da EDO')"
   ]
  },
  {
   "cell_type": "code",
   "execution_count": null,
   "id": "1a654683",
   "metadata": {},
   "outputs": [],
   "source": []
  }
 ],
 "metadata": {
  "kernelspec": {
   "display_name": "Python 3 (ipykernel)",
   "language": "python",
   "name": "python3"
  },
  "language_info": {
   "codemirror_mode": {
    "name": "ipython",
    "version": 3
   },
   "file_extension": ".py",
   "mimetype": "text/x-python",
   "name": "python",
   "nbconvert_exporter": "python",
   "pygments_lexer": "ipython3",
   "version": "3.9.12"
  }
 },
 "nbformat": 4,
 "nbformat_minor": 5
}
