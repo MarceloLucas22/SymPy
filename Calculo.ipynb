{
 "cells": [
  {
   "cell_type": "markdown",
   "id": "bc7d19c7",
   "metadata": {},
   "source": [
    "# Cálculo"
   ]
  },
  {
   "cell_type": "markdown",
   "id": "685671c4",
   "metadata": {},
   "source": [
    "1. Limites"
   ]
  },
  {
   "cell_type": "code",
   "execution_count": null,
   "id": "0c3a6b09",
   "metadata": {},
   "outputs": [],
   "source": [
    "'''\n",
    "descrição : avaliar o limite fundamental trigonometrico \n",
    "usando a função Limit \n",
    "========================================================\n",
    "programador : Marcelo Lucas Almeida\n",
    "'''\n",
    "from sympy import symbols , init_printing , sin , Limit\n",
    "init_printing(use_latex= True)  # saida formatada em latex \n",
    "x = symbols('x', real = True) # simbolo / variavel independente \n",
    "fun_x = sin(x)/x              # função f(x)\n",
    "\n",
    "Limit(fun_x,x,0)"
   ]
  },
  {
   "cell_type": "code",
   "execution_count": null,
   "id": "f70efbea",
   "metadata": {},
   "outputs": [],
   "source": [
    "# calculando a expressão com o método .doit()\n",
    "print(f'O valor do limite é = {Limit(fun_x,x,0).doit()}')"
   ]
  },
  {
   "cell_type": "markdown",
   "id": "f807f751",
   "metadata": {},
   "source": [
    "*Exemplo 2*"
   ]
  },
  {
   "cell_type": "code",
   "execution_count": null,
   "id": "de123e86",
   "metadata": {},
   "outputs": [],
   "source": [
    "'''\n",
    "descrição : calculo de limite \n",
    "=============================================\n",
    "programador : Marcelo Lucas Almeida \n",
    "'''\n",
    "from sympy import symbols, init_printing , Limit\n",
    "init_printing(use_latex=True)\n",
    "h = symbols('h', real = True)   # criando o simbolo h \n",
    "fun_h = Limit( (((4 + h)**3) - 64)/h,h,0) \n",
    "fun_h"
   ]
  },
  {
   "cell_type": "code",
   "execution_count": null,
   "id": "bde154cd",
   "metadata": {},
   "outputs": [],
   "source": [
    "# avaliando o limite : \n",
    "print(f\"o valor do limite é = {fun_h.doit()}\")"
   ]
  },
  {
   "cell_type": "markdown",
   "id": "6f9aec28",
   "metadata": {},
   "source": [
    "*exemplo 3*"
   ]
  },
  {
   "cell_type": "code",
   "execution_count": null,
   "id": "b7fe91a5",
   "metadata": {},
   "outputs": [],
   "source": [
    "'''\n",
    "descrição : aplicação de limite na teoria da relatividade\n",
    "=========================================================\n",
    "programador : Marcelo Lucas Almeida \n",
    "'''\n",
    "from sympy import symbols, init_printing, Limit, sqrt \n",
    "\n",
    "# criando as variaveis simbolicas : \n",
    "m_0 = symbols('m_0', real = True, constant = True) # massa da particula em repouso\n",
    "v   = symbols('v', real= True)    # velocidade da particula \n",
    "c =   symbols('c', real = True)   # velocidade da luz \n",
    "\n",
    "# criando a relação funcional : \n",
    "m = m_0/sqrt((1 - v**2/c**2))\n",
    "\n",
    "lim = Limit(m,v,c,\"-\")\n",
    "lim"
   ]
  },
  {
   "cell_type": "code",
   "execution_count": null,
   "id": "8dd9e272",
   "metadata": {},
   "outputs": [],
   "source": [
    "# avaliando quando a velocidade da particula se aproximada da velocidade da luz :\n",
    "\n",
    "lim.doit()"
   ]
  },
  {
   "cell_type": "markdown",
   "id": "ff3fc5fd",
   "metadata": {},
   "source": [
    "*exemplo 4*"
   ]
  },
  {
   "cell_type": "code",
   "execution_count": null,
   "id": "44ec36ad",
   "metadata": {},
   "outputs": [],
   "source": [
    "'''\n",
    "descrição : calculo de limite no infinito \n",
    "===========================================\n",
    "programador : Marcelo Lucas Almeida \n",
    "'''\n",
    "from sympy import symbols , init_printing , Limit, oo\n",
    "\n",
    "x = symbols('x', real = True)\n",
    "\n",
    "fun = Limit((1 + 1/x)**x,x,oo)\n",
    "fun"
   ]
  },
  {
   "cell_type": "code",
   "execution_count": null,
   "id": "9e80bcfc",
   "metadata": {},
   "outputs": [],
   "source": [
    "# avaliando esse limite \n",
    "fun.doit()"
   ]
  },
  {
   "cell_type": "markdown",
   "id": "540cc406",
   "metadata": {},
   "source": [
    "**Derivadas**"
   ]
  },
  {
   "cell_type": "code",
   "execution_count": null,
   "id": "d4a3fe1c",
   "metadata": {},
   "outputs": [],
   "source": [
    "'''\n",
    "descrição : calcula da derivada de f(x) = cos(x)\n",
    "==================================================\n",
    "programador : Marcelo Almeida\n",
    "'''\n",
    "from sympy import symbols , diff,  cos, init_printing , Derivative\n",
    "init_printing(use_latex= True)  # usando latex \n",
    "\n",
    "x = symbols('x', real = True)\n",
    "f_x = cos(x)\n",
    "\n",
    "derivada = Derivative(f_x,x)\n",
    "\n",
    "derivada\n"
   ]
  },
  {
   "cell_type": "code",
   "execution_count": null,
   "id": "ba54293d",
   "metadata": {},
   "outputs": [],
   "source": [
    "# mostrando a derivada avaliando com o metodo .doit() \n",
    "print('A deriavada é :')\n",
    "\n",
    "derivada.doit()"
   ]
  },
  {
   "cell_type": "code",
   "execution_count": null,
   "id": "dd2e3156",
   "metadata": {},
   "outputs": [],
   "source": [
    "'''\n",
    "descrição : calculo da derivada da função f(x) = exp(2x)cos(-x)\n",
    "=================================================================\n",
    "programador : Marcelo Almeida \n",
    "'''\n",
    "from sympy import symbols, sin , cos , exp , diff , init_printing, \\\n",
    "    Function , Derivative\n",
    "\n",
    "init_printing(use_latex=True)  # uso do latex \n",
    "\n",
    "# criando o valor simbolico : \n",
    "x = symbols('x', real = True)\n",
    "\n",
    "fun = exp(2*x)*cos(-x)\n",
    "\n",
    "derivada2 = diff(fun,x,2)\n",
    "\n",
    "derivada2"
   ]
  },
  {
   "cell_type": "code",
   "execution_count": null,
   "id": "59142e5e",
   "metadata": {},
   "outputs": [],
   "source": [
    "'''\n",
    "descrição : calcular a segunda derivada da função f(x) = exp(-x)sin(2x)\n",
    "========================================================================\n",
    "programador : Marcelo Almeida \n",
    "'''\n",
    "from sympy import symbols, diff , exp , sin , init_printing \n",
    "init_printing(use_latex= True)\n",
    "\n",
    "# criando o simbolo : \n",
    "x = symbols('x', real = True)\n",
    "\n",
    "fun = exp(-x)*sin(2*x)\n",
    "\n",
    "# calculando a segunda derivada : \n",
    "derivada = diff(fun,x,2)\n",
    "\n",
    "derivada"
   ]
  },
  {
   "cell_type": "code",
   "execution_count": null,
   "id": "f319f80d",
   "metadata": {},
   "outputs": [],
   "source": [
    "'''\n",
    "descrição : calculo das derivadas parciais de f(x,y) = exp(xy)cos(xy)\n",
    "====================================================================\n",
    "programador : Marcelo Almeida \n",
    "'''\n",
    "from sympy import symbols, diff , exp , cos , init_printing \n",
    "init_printing(use_latex= True)\n",
    "# criando simbolos : \n",
    "x = symbols('x', real = True)   # variavel x \n",
    "y = symbols('y', real = True)  # variavel y \n",
    "# criando a função z = f(x,y) : \n",
    "fun_xy = exp(x*y)*cos(x*y)\n",
    "# derivada em relação a x  : \n",
    "diff_x = diff(fun_xy,x)\n",
    "# derivada em relação a y : \n",
    "diff_y = diff(fun_xy, y)\n",
    "# derivada mista f_yx : \n",
    "diff_yx = diff(fun_xy,y,x) \n",
    " "
   ]
  },
  {
   "cell_type": "code",
   "execution_count": null,
   "id": "cd6d73e0",
   "metadata": {},
   "outputs": [],
   "source": [
    "print(\"derivada em relação a x : \")\n",
    "diff_x"
   ]
  },
  {
   "cell_type": "code",
   "execution_count": null,
   "id": "2911231d",
   "metadata": {},
   "outputs": [],
   "source": [
    "print(\"derivada em relação a y : \")\n",
    "diff_y"
   ]
  },
  {
   "cell_type": "code",
   "execution_count": null,
   "id": "8b470350",
   "metadata": {},
   "outputs": [],
   "source": [
    "print(\"derivada em relação a y e x  : \")\n",
    "diff_yx"
   ]
  },
  {
   "cell_type": "markdown",
   "id": "2d16a268",
   "metadata": {},
   "source": [
    "**Integral**\n",
    "\n",
    "<br>\n",
    "\n",
    "*exemplo 1:*\n",
    "\n",
    "<br>\n",
    "\n",
    "$$\\int e^{x} \\sin(x) dx$$"
   ]
  },
  {
   "cell_type": "code",
   "execution_count": null,
   "id": "2336f9c8",
   "metadata": {},
   "outputs": [],
   "source": [
    "'''\n",
    "descrição : calculo da primitiva de f(x) = exp(x)sin(x)\n",
    "======================================================\n",
    "programador : Marcelo Almeida \n",
    "'''\n",
    "from sympy import symbols , exp , sin , Integral \n",
    "\n",
    "x = symbols('x', real = True)\n",
    "\n",
    "fun_x = exp(x)*sin(x)\n",
    "\n",
    "integral_f = Integral(fun_x,x)\n",
    "\n",
    "integral_f"
   ]
  },
  {
   "cell_type": "code",
   "execution_count": null,
   "id": "ccebd90d",
   "metadata": {},
   "outputs": [],
   "source": [
    "# calcualndo a integral com o metodo .doit() :\n",
    "integral_f.doit()"
   ]
  },
  {
   "cell_type": "markdown",
   "id": "c16f0cb4",
   "metadata": {},
   "source": [
    "*Exemplo :*\n",
    "\n",
    "<br>\n",
    "\n",
    "$$\\int_{-\\pi/2}^{\\pi/2}e^{x}\\cos(x) dx$$"
   ]
  },
  {
   "cell_type": "code",
   "execution_count": null,
   "id": "551add5e",
   "metadata": {},
   "outputs": [],
   "source": [
    "'''\n",
    "descrição : calculo da integral definida \n",
    "======================================================\n",
    "programador : Marcelo Almeida \n",
    "'''\n",
    "from sympy import symbols , integrate , exp , cos , pi , init_printing\n",
    "init_printing(use_latex= True)\n",
    "x = symbols('x' , real = True)\n",
    "fun = exp(x)*cos(x)              # função \n",
    "\n",
    "# calculo da integral definida : \n",
    "\n",
    "valor_integral = integrate(fun,(x,-pi/2,pi/2))\n",
    "\n",
    "valor_integral"
   ]
  },
  {
   "cell_type": "code",
   "execution_count": null,
   "id": "28cd3129",
   "metadata": {},
   "outputs": [],
   "source": [
    "'''\n",
    "descrição : calculando uma integral impropria \n",
    "===============================================\n",
    "programador : Marcelo Almeida \n",
    "'''\n",
    "from sympy import symbols , integrate , oo , sin , Integral, exp\n",
    "\n",
    "x = symbols('x', real = True)\n",
    "\n",
    "fun = sin(x)**3 / x**3 \n",
    "\n",
    "fun = Integral(fun,(x,0,oo))\n",
    "\n",
    "fun"
   ]
  },
  {
   "cell_type": "code",
   "execution_count": null,
   "id": "48905455",
   "metadata": {},
   "outputs": [],
   "source": [
    "# calculando o seu valor com o metodo .doit() \n",
    "\n",
    "fun.doit()"
   ]
  },
  {
   "cell_type": "markdown",
   "id": "543b89e6",
   "metadata": {},
   "source": [
    "*exemplo 3*"
   ]
  },
  {
   "cell_type": "code",
   "execution_count": null,
   "id": "2eb219dd",
   "metadata": {},
   "outputs": [],
   "source": [
    "'''\n",
    "descrição : cálculo de uma integral imprópia \n",
    "=============================================\n",
    "programador : Marcelo Almeida\n",
    "'''\n",
    "\n",
    "from sympy import symbols , integrate , oo , sin , Integral, exp\n",
    "\n",
    "x = symbols('x', real = True )\n",
    "\n",
    "fun = exp(-x**2)\n",
    "\n",
    "expr = Integral(fun,(x,0,oo))\n",
    "\n",
    "expr "
   ]
  },
  {
   "cell_type": "code",
   "execution_count": null,
   "id": "8adb3694",
   "metadata": {},
   "outputs": [],
   "source": [
    "# avaliando a integral \n",
    "\n",
    "expr.doit()"
   ]
  },
  {
   "cell_type": "markdown",
   "id": "31dcdbf5",
   "metadata": {},
   "source": [
    "*criando a função $\\Gamma(x)$*"
   ]
  },
  {
   "cell_type": "code",
   "execution_count": null,
   "id": "612878be",
   "metadata": {},
   "outputs": [],
   "source": [
    "'''\n",
    "descrição : criando a função gamma em sympy e calculando em x = 2\n",
    "===========================================\n",
    "programador : Marcelo Almeida\n",
    "'''\n",
    "from sympy import symbols, exp, init_printing,Integral, oo \n",
    "\n",
    "x = symbols('x', real = True, positive = True)   # definindo x como valor positivo\n",
    "t = symbols('t', real = True )\n",
    "\n",
    "fun_gamma = t**(x-1)*exp(-t)\n",
    "\n",
    "expr = Integral(fun_gamma,(t,0,oo))\n",
    "\n",
    "# mostrando a integral não avaliada \n",
    "expr"
   ]
  },
  {
   "cell_type": "code",
   "execution_count": null,
   "id": "ebe5724c",
   "metadata": {},
   "outputs": [],
   "source": [
    "# valiando essa integral, temos : \n",
    "expr.doit()"
   ]
  },
  {
   "cell_type": "code",
   "execution_count": null,
   "id": "8862cc03",
   "metadata": {},
   "outputs": [],
   "source": [
    "# calculando a função gamma em x = 2 : \n",
    "expr.subs({x : 2}).doit()"
   ]
  },
  {
   "cell_type": "markdown",
   "id": "a62aa1a0",
   "metadata": {},
   "source": [
    "*criando a função* $B(m,n)$"
   ]
  },
  {
   "cell_type": "code",
   "execution_count": null,
   "id": "f8753a67",
   "metadata": {},
   "outputs": [],
   "source": [
    "'''\n",
    "descrição : criando a função beta em sympy e avaliando em m=2 e n = 1 \n",
    "===========================================\n",
    "programador : Marcelo Almeida\n",
    "'''\n",
    "from sympy import symbols, init_printing,Integral\n",
    "init_printing(use_latex= True)\n",
    "x = symbols('x', real = True)\n",
    "m , n = symbols('m,n', real = True , positive = True)\n",
    "fun_beta = x**(m - 1 )*(1 - x)**(n - 1)\n",
    "expr = Integral(fun_beta,(x,0,1))\n",
    "expr"
   ]
  },
  {
   "cell_type": "code",
   "execution_count": null,
   "id": "cc2612a2",
   "metadata": {},
   "outputs": [],
   "source": [
    "# avaliando a integral : \n",
    "expr.doit()"
   ]
  },
  {
   "cell_type": "code",
   "execution_count": null,
   "id": "92e5870a",
   "metadata": {},
   "outputs": [],
   "source": [
    "# calculando a função beta para m = 2 e n = 1 . \n",
    "expr.subs({m : 2 , n : 1}).doit()"
   ]
  },
  {
   "cell_type": "markdown",
   "id": "3a09513d",
   "metadata": {},
   "source": [
    "*exemplo :* função erro"
   ]
  },
  {
   "cell_type": "code",
   "execution_count": null,
   "id": "752fa586",
   "metadata": {},
   "outputs": [],
   "source": [
    "from sympy import symbols , sqrt , Integral, exp , init_printing , \\\n",
    "    pi \n",
    "init_printing(use_latex= True)\n",
    "x = symbols('x', real = True)\n",
    "u = symbols('u', real = True)\n",
    "fun_erro = (2/sqrt(pi))*Integral(exp(-u**2),(u,0,x))\n",
    "\n",
    "fun_erro"
   ]
  },
  {
   "cell_type": "code",
   "execution_count": null,
   "id": "ff4a2289",
   "metadata": {},
   "outputs": [],
   "source": [
    "# avaliando essa integral\n",
    "fun_erro.doit()"
   ]
  },
  {
   "cell_type": "code",
   "execution_count": null,
   "id": "c5159e9b",
   "metadata": {},
   "outputs": [],
   "source": [
    "# calculando a função erro em x = 0 \n",
    "fun_erro.subs({x:0}).doit()"
   ]
  },
  {
   "cell_type": "markdown",
   "id": "c5166ab5",
   "metadata": {},
   "source": [
    "_criando a função exponencial integral_"
   ]
  },
  {
   "cell_type": "code",
   "execution_count": 1,
   "id": "99c17b98",
   "metadata": {},
   "outputs": [
    {
     "data": {
      "text/latex": [
       "$\\displaystyle \\int\\limits_{- x}^{\\infty} \\frac{e^{- t}}{t}\\, dt$"
      ],
      "text/plain": [
       "Integral(exp(-t)/t, (t, -x, oo))"
      ]
     },
     "execution_count": 1,
     "metadata": {},
     "output_type": "execute_result"
    }
   ],
   "source": [
    "'''\n",
    "descrição : Vamos criar a função exponencial integral no SymPy\n",
    "=================================================================\n",
    "programador : Marcelo Almeida\n",
    "'''\n",
    "from sympy import symbols, exp , Integral, oo \n",
    "x = symbols('x' , real = True)\n",
    "t = symbols('t', real = True)\n",
    "\n",
    "Ei = Integral(exp(-t)/t,(t,-x,oo))\n",
    "Ei"
   ]
  },
  {
   "cell_type": "code",
   "execution_count": 2,
   "id": "df44132b",
   "metadata": {},
   "outputs": [
    {
     "data": {
      "text/latex": [
       "$\\displaystyle - \\operatorname{Ei}{\\left(- x e^{i \\pi} \\right)}$"
      ],
      "text/plain": [
       "-Ei(-x*exp_polar(I*pi))"
      ]
     },
     "execution_count": 2,
     "metadata": {},
     "output_type": "execute_result"
    }
   ],
   "source": [
    "# avaliando essa integral : \n",
    "\n",
    "Ei.doit()"
   ]
  },
  {
   "cell_type": "markdown",
   "id": "64101320",
   "metadata": {},
   "source": [
    "_Integral dupla_"
   ]
  },
  {
   "cell_type": "code",
   "execution_count": 7,
   "id": "d42fe2cf",
   "metadata": {},
   "outputs": [
    {
     "data": {
      "text/latex": [
       "$\\displaystyle \\frac{x^{3} y}{3} + \\frac{x y^{3}}{3}$"
      ],
      "text/plain": [
       "x**3*y/3 + x*y**3/3"
      ]
     },
     "execution_count": 7,
     "metadata": {},
     "output_type": "execute_result"
    }
   ],
   "source": [
    "'''\n",
    "descrição : calculando uma integral dupla\n",
    "=========================================\n",
    "programador : Marcelo Almeida\n",
    "'''\n",
    "from sympy import symbols , integrate , init_printing\n",
    "from sympy.plotting import plot3d\n",
    "x , y = symbols('x,y', real = True)\n",
    "fun_xy = x**2 + y**2 \n",
    "# primitiva da função : \n",
    "primitiva = integrate(fun_xy,x,y)\n",
    "primitiva"
   ]
  },
  {
   "cell_type": "code",
   "execution_count": 8,
   "id": "f9b7cb96",
   "metadata": {},
   "outputs": [
    {
     "data": {
      "image/png": "[encoded data removed]",
      "text/plain": [
       "<Figure size 432x288 with 1 Axes>"
      ]
     },
     "metadata": {
      "needs_background": "light"
     },
     "output_type": "display_data"
    },
    {
     "data": {
      "text/plain": [
       "<sympy.plotting.plot.Plot at 0x7f879d74d430>"
      ]
     },
     "execution_count": 8,
     "metadata": {},
     "output_type": "execute_result"
    }
   ],
   "source": [
    "# plote das duas funções : \n",
    "plot3d(fun_xy,primitiva,(x,-1,1),(y,-1,1), title='plote da função x² + y² e sua primitiva',\n",
    "xlabel='eixo x', ylabel='eixo x', zlabel='f(x,y)')"
   ]
  },
  {
   "cell_type": "markdown",
   "id": "58621df0",
   "metadata": {},
   "source": [
    "_Exemplo de Integração Tripla_"
   ]
  },
  {
   "cell_type": "code",
   "execution_count": 15,
   "id": "b5c282ad",
   "metadata": {},
   "outputs": [
    {
     "data": {
      "text/latex": [
       "$\\displaystyle \\iiint \\left(x^{2} + y^{2} + z^{2}\\right)\\, dx\\, dy\\, dz$"
      ],
      "text/plain": [
       "Integral(x**2 + y**2 + z**2, x, y, z)"
      ]
     },
     "execution_count": 15,
     "metadata": {},
     "output_type": "execute_result"
    }
   ],
   "source": [
    "'''\n",
    "descrição : calculo de uma integral tripla\n",
    "=========================================\n",
    "programador : Marcelo Almeida\n",
    "'''\n",
    "\n",
    "from sympy import symbols, integrate , exp , Integral\n",
    "\n",
    "# criando os simbolos :\n",
    "x , y , z = symbols('x,y,z', real = True)\n",
    "\n",
    "# criando a função : \n",
    "fun_xyz = x**2 + y**2 + z**2 \n",
    "\n",
    "# calculando a sua primitiva :\n",
    "\n",
    "primitiva = Integral(fun_xyz,x,y,z)\n",
    "\n",
    "primitiva"
   ]
  },
  {
   "cell_type": "code",
   "execution_count": 16,
   "id": "aa9bbac1",
   "metadata": {},
   "outputs": [
    {
     "data": {
      "text/latex": [
       "$\\displaystyle \\frac{x y z^{3}}{3} + z \\left(\\frac{x^{3} y}{3} + \\frac{x y^{3}}{3}\\right)$"
      ],
      "text/plain": [
       "x*y*z**3/3 + z*(x**3*y/3 + x*y**3/3)"
      ]
     },
     "execution_count": 16,
     "metadata": {},
     "output_type": "execute_result"
    }
   ],
   "source": [
    "# avaliando a integral : \n",
    "primitiva.doit()"
   ]
  },
  {
   "cell_type": "code",
   "execution_count": null,
   "id": "e9c3d7c5",
   "metadata": {},
   "outputs": [],
   "source": []
  }
 ],
 "metadata": {
  "kernelspec": {
   "display_name": "Python 3 (ipykernel)",
   "language": "python",
   "name": "python3"
  },
  "language_info": {
   "codemirror_mode": {
    "name": "ipython",
    "version": 3
   },
   "file_extension": ".py",
   "mimetype": "text/x-python",
   "name": "python",
   "nbconvert_exporter": "python",
   "pygments_lexer": "ipython3",
   "version": "3.9.12"
  }
 },
 "nbformat": 4,
 "nbformat_minor": 5
}
