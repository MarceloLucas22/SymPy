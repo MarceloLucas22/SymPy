{
 "cells": [
  {
   "cell_type": "markdown",
   "id": "b563bcb4",
   "metadata": {},
   "source": [
    "## Capitulo de Criação de Simbolos em SymPy "
   ]
  },
  {
   "cell_type": "code",
   "execution_count": 1,
   "id": "a141ee24",
   "metadata": {},
   "outputs": [
    {
     "data": {
      "text/latex": [
       "$\\displaystyle x$"
      ],
      "text/plain": [
       "x"
      ]
     },
     "execution_count": 1,
     "metadata": {},
     "output_type": "execute_result"
    }
   ],
   "source": [
    "import sympy as sp # importando a biblioteca do SymPY \n",
    "\n",
    "x = sp.symbols('x') # criando a variavel simbolica 'x'\n",
    "\n",
    "x\n"
   ]
  },
  {
   "cell_type": "markdown",
   "id": "82ad3ccd",
   "metadata": {},
   "source": [
    "#### Criando varios simbolos "
   ]
  },
  {
   "cell_type": "code",
   "execution_count": 2,
   "id": "85912c94",
   "metadata": {},
   "outputs": [
    {
     "name": "stdout",
     "output_type": "stream",
     "text": [
      "x\n",
      "y\n"
     ]
    }
   ],
   "source": [
    "import sympy as sp \n",
    "\n",
    "x , y = sp.symbols('x,y')\n",
    "\n",
    "print(x)\n",
    "print(y)"
   ]
  },
  {
   "cell_type": "markdown",
   "id": "e3b29839",
   "metadata": {},
   "source": [
    "#### criando valores simbolicos com atributos (caracteristicas) diferentes "
   ]
  },
  {
   "cell_type": "code",
   "execution_count": 3,
   "id": "c7edc3ce",
   "metadata": {},
   "outputs": [],
   "source": [
    "import sympy as sp \n",
    "\n",
    "x = sp.symbols('x', real = True)  # define 'x' como um valor real \n",
    "\n",
    "i = sp.symbols('i', integer = True) # define 'i' como um valor inteiro \n",
    "\n",
    "y = sp.symbols('y', complex = True )# define 'y' como um valor complexo \n",
    "\n"
   ]
  },
  {
   "cell_type": "markdown",
   "id": "6d810e64",
   "metadata": {},
   "source": [
    "#### Manipulando expressões algebricas com o sympy "
   ]
  },
  {
   "cell_type": "code",
   "execution_count": 4,
   "id": "8674d059",
   "metadata": {},
   "outputs": [
    {
     "name": "stdout",
     "output_type": "stream",
     "text": [
      "A expressão 1 é :  a*x**2 + b*x + c\n",
      "\n",
      "a expressão 2 é :  -2*a*x**2 + 4*b*x\n",
      "\n",
      "A soma é :  -a*x**2 + 5*b*x + c\n",
      "\n",
      "A subtração é :  3*a*x**2 - 3*b*x + c\n"
     ]
    }
   ],
   "source": [
    "import sympy as sp \n",
    "sp.init_printing(use_latex= True)\n",
    "\n",
    "x = sp.symbols('x', real = True)\n",
    "a , b ,c  = sp.symbols('a,b,c', integer = True )\n",
    "\n",
    "expr1 = a*x**2 + b*x + c    # expressão do 2° grau\n",
    "expr2 = -2*a*x**2 + 4*b*x   # segunda expressão \n",
    "\n",
    "soma = expr1 + expr2      # soma as duas expressões \n",
    "\n",
    "sub = expr1 - expr2       # subtração das duas expressões \n",
    "\n",
    "\n",
    "\n",
    "\n",
    "print('A expressão 1 é : ', expr1)\n",
    "print() \n",
    "print('a expressão 2 é : ', expr2)\n",
    "print()\n",
    "print('A soma é : ', soma)\n",
    "print()\n",
    "print('A subtração é : ', sub)\n"
   ]
  },
  {
   "cell_type": "markdown",
   "id": "057f8067",
   "metadata": {},
   "source": [
    "#### Usando a substituição em SymPy"
   ]
  },
  {
   "cell_type": "code",
   "execution_count": 5,
   "id": "9516a478",
   "metadata": {},
   "outputs": [
    {
     "data": {
      "image/png": "[encoded data removed]",
      "text/latex": [
       "$\\displaystyle 2 x + \\left(x^{2} + 2\\right)^{3}$"
      ],
      "text/plain": [
       "              3\n",
       "      ⎛ 2    ⎞ \n",
       "2⋅x + ⎝x  + 2⎠ "
      ]
     },
     "execution_count": 5,
     "metadata": {},
     "output_type": "execute_result"
    }
   ],
   "source": [
    "import sympy as sp \n",
    "\n",
    "x = sp.symbols('x' , real = True)\n",
    "\n",
    "fun = (x**2 + 2)**3 + 2*x     # função f(x) \n",
    "\n",
    "fun \n",
    "\n"
   ]
  },
  {
   "cell_type": "code",
   "execution_count": 6,
   "id": "c92a177e",
   "metadata": {},
   "outputs": [
    {
     "data": {
      "image/png": "[encoded data removed]",
      "text/latex": [
       "$\\displaystyle 2 x + \\left(e^{2 x} + \\cos{\\left(2 x \\right)}\\right)^{3}$"
      ],
      "text/plain": [
       "                       3\n",
       "      ⎛ 2⋅x           ⎞ \n",
       "2⋅x + ⎝ℯ    + cos(2⋅x)⎠ "
      ]
     },
     "execution_count": 6,
     "metadata": {},
     "output_type": "execute_result"
    }
   ],
   "source": [
    "fun = fun.subs({x**2 + 2 : sp.exp(2*x) + sp.cos(2*x)})  # nova função \n",
    "\n",
    "fun"
   ]
  },
  {
   "cell_type": "markdown",
   "id": "1d53c73d",
   "metadata": {},
   "source": [
    "#### simplificando expressões "
   ]
  },
  {
   "cell_type": "code",
   "execution_count": 7,
   "id": "c0783cbd",
   "metadata": {},
   "outputs": [
    {
     "data": {
      "image/png": "[encoded data removed]",
      "text/latex": [
       "$\\displaystyle \\frac{\\left(2 x + 3\\right) \\left(10 x - 5\\right)}{2 x - 1}$"
      ],
      "text/plain": [
       "(2⋅x + 3)⋅(10⋅x - 5)\n",
       "────────────────────\n",
       "      2⋅x - 1       "
      ]
     },
     "execution_count": 7,
     "metadata": {},
     "output_type": "execute_result"
    }
   ],
   "source": [
    "import sympy as sp \n",
    "\n",
    "x = sp.symbols('x', real = True )\n",
    "\n",
    "# criando a função :\n",
    "fun = ((2*x + 3)*(10*x - 5))/(2*x - 1 )\n",
    "\n",
    "# mostrando a função :\n",
    "\n",
    "fun"
   ]
  },
  {
   "cell_type": "code",
   "execution_count": 8,
   "id": "b38a5494",
   "metadata": {},
   "outputs": [
    {
     "data": {
      "image/png": "[encoded data removed]",
      "text/latex": [
       "$\\displaystyle 10 x + 15$"
      ],
      "text/plain": [
       "10⋅x + 15"
      ]
     },
     "execution_count": 8,
     "metadata": {},
     "output_type": "execute_result"
    }
   ],
   "source": [
    "# simplificando a expressão usando a função simplify() \n",
    "\n",
    "fun = sp.simplify(fun)\n",
    "\n",
    "# mostrando a simplificação :\n",
    "\n",
    "fun "
   ]
  },
  {
   "cell_type": "code",
   "execution_count": 9,
   "id": "ace99b20",
   "metadata": {},
   "outputs": [
    {
     "data": {
      "image/png": "[encoded data removed]",
      "text/latex": [
       "$\\displaystyle \\frac{1 - \\sin^{2}{\\left(x \\right)}}{\\tan^{2}{\\left(x \\right)} + 1}$"
      ],
      "text/plain": [
       "       2   \n",
       "1 - sin (x)\n",
       "───────────\n",
       "   2       \n",
       "tan (x) + 1"
      ]
     },
     "execution_count": 9,
     "metadata": {},
     "output_type": "execute_result"
    }
   ],
   "source": [
    "import sympy as sp \n",
    "\n",
    "x = sp.symbols('x', real = True )\n",
    "\n",
    "# criando a função :\n",
    "fun = (1 - sp.sin(x)**2)/(sp.tan(x)**2 + 1)\n",
    "\n",
    "# mostrando a função :\n",
    "\n",
    "fun"
   ]
  },
  {
   "cell_type": "code",
   "execution_count": 10,
   "id": "47a1d99f",
   "metadata": {},
   "outputs": [
    {
     "data": {
      "image/png": "[encoded data removed]",
      "text/latex": [
       "$\\displaystyle \\cos^{4}{\\left(x \\right)}$"
      ],
      "text/plain": [
       "   4   \n",
       "cos (x)"
      ]
     },
     "execution_count": 10,
     "metadata": {},
     "output_type": "execute_result"
    }
   ],
   "source": [
    "# simplificando :\n",
    "\n",
    "fun = sp.simplify(fun)\n",
    "\n",
    "# mostrando a função simplificada \n",
    "\n",
    "fun "
   ]
  },
  {
   "cell_type": "markdown",
   "id": "6e6f3ca6",
   "metadata": {},
   "source": [
    "#### usando o metodo evalf()"
   ]
  },
  {
   "cell_type": "code",
   "execution_count": 11,
   "id": "ff476970",
   "metadata": {},
   "outputs": [
    {
     "data": {
      "image/png": "[encoded data removed]",
      "text/latex": [
       "$\\displaystyle 2 x^{2} + \\left(\\sin{\\left(2 x \\right)} + \\cos{\\left(2 x \\right)}\\right) e^{- 3 x}$"
      ],
      "text/plain": [
       "   2                          -3⋅x\n",
       "2⋅x  + (sin(2⋅x) + cos(2⋅x))⋅ℯ    "
      ]
     },
     "execution_count": 11,
     "metadata": {},
     "output_type": "execute_result"
    }
   ],
   "source": [
    "import sympy as sp \n",
    "\n",
    "x = sp.symbols('x', real = True)\n",
    "\n",
    "fun = (sp.sin(2*x) + sp.cos(2*x))/(sp.exp(3*x)) + 2*x**2\n",
    "\n",
    "# mostrando a função :\n",
    "\n",
    "fun"
   ]
  },
  {
   "cell_type": "code",
   "execution_count": 12,
   "id": "78b95579",
   "metadata": {},
   "outputs": [
    {
     "data": {
      "image/png": "[encoded data removed]",
      "text/latex": [
       "$\\displaystyle 19.7393$"
      ],
      "text/plain": [
       "19.7393"
      ]
     },
     "execution_count": 12,
     "metadata": {},
     "output_type": "execute_result"
    }
   ],
   "source": [
    "# avaliando a função em pi :\n",
    "\n",
    "valor = fun.subs({x : sp.pi}).evalf(6)   # tamanho do valor numerico \n",
    "valor"
   ]
  },
  {
   "cell_type": "markdown",
   "id": "78e75f05",
   "metadata": {},
   "source": [
    "### Usando a função lambdify()"
   ]
  },
  {
   "cell_type": "code",
   "execution_count": 13,
   "id": "71e28be0",
   "metadata": {},
   "outputs": [
    {
     "data": {
      "text/plain": [
       "array([8.38905610e+00, 5.60123636e+01, 4.05160844e+02, 2.98295799e+03,\n",
       "       2.20287019e+04, 1.62757241e+05, 1.20260693e+06, 8.88611335e+06,\n",
       "       6.56599721e+07, 4.85165199e+08])"
      ]
     },
     "execution_count": 13,
     "metadata": {},
     "output_type": "execute_result"
    }
   ],
   "source": [
    "import sympy as sp \n",
    "import numpy as np \n",
    "\n",
    "x = sp.symbols('x', real = True )\n",
    "\n",
    "fun = sp.sqrt(x) + sp.exp(2*x)\n",
    "\n",
    "vetx = np.linspace(1,10,10)\n",
    "\n",
    "\n",
    "# vetorizando a função simbolica :\n",
    "\n",
    "fun_vet = sp.lambdify(x, fun,'numpy')\n",
    "\n",
    "# calculando a função para cada valor na lista :\n",
    "\n",
    "valores = fun_vet(vetx)\n",
    "\n",
    "valores\n",
    "\n"
   ]
  },
  {
   "cell_type": "markdown",
   "id": "90c2c79f",
   "metadata": {},
   "source": [
    "### Criando igualdades "
   ]
  },
  {
   "cell_type": "code",
   "execution_count": 14,
   "id": "2daf3e45",
   "metadata": {},
   "outputs": [
    {
     "data": {
      "image/png": "[encoded data removed]",
      "text/latex": [
       "$\\displaystyle \\tan^{2}{\\left(x \\right)} + 1 = \\sec{\\left(x \\right)}$"
      ],
      "text/plain": [
       "   2                \n",
       "tan (x) + 1 = sec(x)"
      ]
     },
     "execution_count": 14,
     "metadata": {},
     "output_type": "execute_result"
    }
   ],
   "source": [
    "import sympy as sp \n",
    "\n",
    "x = sp.symbols('x', real = True)\n",
    "\n",
    "expr1 = sp.tan(x)**2 + 1   # expressão do lado esquerdo \n",
    "\n",
    "expr2 = sp.sec(x)          # expressão do lado direito \n",
    "\n",
    "equacao = sp.Eq(expr1,expr2)\n",
    "\n",
    "equacao"
   ]
  },
  {
   "cell_type": "code",
   "execution_count": 15,
   "id": "e5a4d71b",
   "metadata": {},
   "outputs": [
    {
     "data": {
      "image/png": "[encoded data removed]",
      "text/latex": [
       "$\\displaystyle \\left[ 5 x + 2 y = 10, \\  3 x - y = 0\\right]$"
      ],
      "text/plain": [
       "[5⋅x + 2⋅y = 10, 3⋅x - y = 0]"
      ]
     },
     "execution_count": 15,
     "metadata": {},
     "output_type": "execute_result"
    }
   ],
   "source": [
    "import sympy as sp \n",
    "\n",
    "x = sp.symbols('x', real = True)\n",
    "y = sp.symbols('y', real = True )\n",
    "\n",
    "eq1 = sp.Eq(5*x + 2*y, 10)     # primeira equação \n",
    "   \n",
    "eq2 = sp.Eq(3*x - y, 0 )       # segunda equação \n",
    "\n",
    "\n",
    "sistema = [eq1, eq2]\n",
    "\n",
    "sistema"
   ]
  },
  {
   "cell_type": "code",
   "execution_count": null,
   "id": "1c58d48a",
   "metadata": {},
   "outputs": [],
   "source": []
  }
 ],
 "metadata": {
  "kernelspec": {
   "display_name": "Python 3 (ipykernel)",
   "language": "python",
   "name": "python3"
  },
  "language_info": {
   "codemirror_mode": {
    "name": "ipython",
    "version": 3
   },
   "file_extension": ".py",
   "mimetype": "text/x-python",
   "name": "python",
   "nbconvert_exporter": "python",
   "pygments_lexer": "ipython3",
   "version": "3.9.12"
  }
 },
 "nbformat": 4,
 "nbformat_minor": 5
}
