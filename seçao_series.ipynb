{
 "cells": [
  {
   "cell_type": "markdown",
   "id": "9254067e",
   "metadata": {},
   "source": [
    "## Seção Sobre Series e Produtorios "
   ]
  },
  {
   "cell_type": "markdown",
   "id": "d65c24ae",
   "metadata": {},
   "source": [
    "**Exemplo 01** : Construi o seguinte somatório em sympy e verificar a identidade \n",
    "\n",
    "<br>\n",
    "\n",
    "$$\\sum_{k = 1}^{N } k \\, = \\, \\dfrac{N(N+1)}{2}$$"
   ]
  },
  {
   "cell_type": "code",
   "execution_count": null,
   "id": "8d2b2073",
   "metadata": {},
   "outputs": [],
   "source": [
    "'''\n",
    "descrição : construindo um somatório dos N primeiros \n",
    "numeros inteiros e avaliando para N = 100.\n",
    "============================================\n",
    "programador : Marcelo Almeida\n",
    "'''\n",
    "from sympy import symbols, Sum \n",
    "# criando os simbolos : \n",
    "k = symbols('k', integer = True, positive = True)\n",
    "N = symbols('N', integer = True, positive = True)\n",
    "# criando o somatorio : \n",
    "somatorio = Sum(k,(k,1,N))\n",
    "somatorio\n",
    "\n"
   ]
  },
  {
   "cell_type": "code",
   "execution_count": null,
   "id": "18f6d80c",
   "metadata": {},
   "outputs": [],
   "source": [
    "# encontrando a soma sem avaliar numericamente :\n",
    "somatorio.doit().simplify()"
   ]
  },
  {
   "cell_type": "code",
   "execution_count": null,
   "id": "63f9a3f2",
   "metadata": {},
   "outputs": [],
   "source": [
    "# avaliando a soma em N = 100 \n",
    "somatorio.doit().subs({N:100})"
   ]
  },
  {
   "cell_type": "markdown",
   "id": "bbf5fe18",
   "metadata": {},
   "source": [
    "Exemplo 02 : Construir o seguinte somatorio e comparar a resposta da soma \n",
    "\n",
    "<br>\n",
    "\n",
    "$$\\sum_{n = 1}^{\\infty} \\dfrac{1}{n^2} \\, =  \\, \\dfrac{\\pi^{2}}{6}$$"
   ]
  },
  {
   "cell_type": "code",
   "execution_count": null,
   "id": "6cc10df6",
   "metadata": {},
   "outputs": [],
   "source": [
    "'''\n",
    "descrição : construindo a serie de 1/n^2 e \n",
    "verificar a sua soma\n",
    "============================================\n",
    "programador : Marcelo Almeida\n",
    "'''\n",
    "from sympy import symbols, Sum , oo \n",
    "# criando os simbolos : \n",
    "n = symbols('n', integer = True, positive = True)\n",
    "\n",
    "# criando a serie :\n",
    "serie = Sum(1/n**2,(n,1,oo))\n",
    "\n",
    "serie"
   ]
  },
  {
   "cell_type": "code",
   "execution_count": null,
   "id": "8e289773",
   "metadata": {},
   "outputs": [],
   "source": [
    "# calculando a sua soma : \n",
    "\n",
    "serie.doit()"
   ]
  },
  {
   "cell_type": "markdown",
   "id": "0916bcd7",
   "metadata": {},
   "source": [
    "**Exemplo 03** : Divergencia da serie harmonica \n",
    "\n",
    "<br>\n",
    "    \n",
    "$$\\sum_{n = 1}^{\\infty} \\dfrac{1}{n} \\, =  \\, 1 + \\dfrac{1}{2} + \\dfrac{1}{3} + \\ldots \\dfrac{1}{n} + \\ldots $$"
   ]
  },
  {
   "cell_type": "code",
   "execution_count": null,
   "id": "051ed53c",
   "metadata": {},
   "outputs": [],
   "source": [
    "'''\n",
    "descrição : construindo a serie 1/n e verificando a\n",
    "sua divergencia \n",
    "============================================\n",
    "programador : Marcelo Almeida\n",
    "'''\n",
    "from sympy import symbols, Sum , oo\n",
    "# criando os simbolos : \n",
    "n = symbols('n', integer = True, positive = True)\n",
    "\n",
    "# criando a serie :\n",
    "serie = Sum(1/n,(n,1,oo))\n",
    "\n",
    "serie\n"
   ]
  },
  {
   "cell_type": "code",
   "execution_count": null,
   "id": "17b2ada4",
   "metadata": {},
   "outputs": [],
   "source": [
    "# calculando a sua soma : \n",
    "\n",
    "serie.doit()"
   ]
  },
  {
   "cell_type": "code",
   "execution_count": null,
   "id": "31423c96",
   "metadata": {},
   "outputs": [],
   "source": [
    "'''\n",
    "descrição : Criando a serie de taylor se sin(x)\n",
    "==============================================\n",
    "programador : Marcelo Almeida\n",
    "\n",
    "'''\n",
    "from sympy import symbols, Sum , oo, factorial \n",
    "# criando os simbolos : \n",
    "n = symbols('n', integer = True, positive = True)\n",
    "x = symbols('x', real = True)\n",
    "# criando expressão : \n",
    "\n",
    "expr = (((-1)**n)*x**(2*n +1))/(factorial(2*n + 1))\n",
    "\n",
    "serie = Sum(expr,(n,0,oo))\n",
    "\n",
    "serie\n"
   ]
  },
  {
   "cell_type": "code",
   "execution_count": null,
   "id": "755a1c24",
   "metadata": {},
   "outputs": [],
   "source": [
    "# avaliando : \n",
    "\n",
    "serie.doit()"
   ]
  },
  {
   "cell_type": "markdown",
   "id": "bd53226f",
   "metadata": {},
   "source": [
    "*Exemplo* : Implementar o seguinte produtório em sympy \n",
    "\n",
    "<br>\n",
    "\n",
    "$$\\cos(x) \\, \\approx \\, \\prod_{k=1}^{N}\\left(1 - \\dfrac{4x^2}{\\pi^{2}(2k - 1)^2}\\right) $$"
   ]
  },
  {
   "cell_type": "code",
   "execution_count": null,
   "id": "93047716",
   "metadata": {},
   "outputs": [],
   "source": [
    "'''\n",
    "descrição : implementar o produtorio que \n",
    "aproxima a função cosseno em um valor x \n",
    "========================================\n",
    "programador : Marcelo Almeida \n",
    "'''\n",
    "from sympy import Product,cos , symbols, init_printing,\\\n",
    "pi , oo\n",
    "\n",
    "# criando os simbolos :\n",
    "x = symbols('x', real = True)\n",
    "k = symbols('k', integer = True , positive = True )\n",
    "\n",
    "# criando a função :\n",
    "fun = 1 - ((4*x**2)/((pi**2)*(2*k - 1 )))\n",
    "\n",
    "produtorio = Product(fun,(k,1,oo))\n",
    "produtorio"
   ]
  },
  {
   "cell_type": "code",
   "execution_count": null,
   "id": "02d3cba8",
   "metadata": {},
   "outputs": [],
   "source": [
    "# avaliando em x = 0  e N = 10 :\n",
    "valor_appx = produtorio.subs({x:0}).doit()\n",
    "\n",
    "print('O valor de cosseno em x = 0 é = ', cos(0))\n",
    "print('O valor pelo produtório é = ', valor_appx)"
   ]
  },
  {
   "cell_type": "code",
   "execution_count": null,
   "id": "ca1f9413",
   "metadata": {},
   "outputs": [],
   "source": [
    "'''\n",
    "descrição : implementar a serie de taylor de f(x) = cos(x)\n",
    "em torno de a = 0.\n",
    "============================================================\n",
    "programador : Marcelo Almeida \n",
    "'''\n",
    "from sympy import symbols, series, init_printing , cos \n",
    "\n",
    "init_printing(use_latex=True)\n",
    "\n",
    "# criando o simbolo :\n",
    "x = symbols('x', real = True)\n",
    "\n",
    "# criando a função :\n",
    "fun = cos(x)\n",
    "\n",
    "# representação em serie de taylor :\n",
    "serie_taylor = series(fun,x,x0=0)\n",
    "\n",
    "serie_taylor"
   ]
  },
  {
   "cell_type": "markdown",
   "id": "7b720146",
   "metadata": {},
   "source": [
    "**Exemplo**: Construção  da serie de taylor de $\\cos(x)$ e alguns termos "
   ]
  },
  {
   "cell_type": "code",
   "execution_count": null,
   "id": "685c0830",
   "metadata": {},
   "outputs": [],
   "source": [
    "'''\n",
    "descrição : construção do grafico de cos(x)\n",
    "e alguns termos de sua serie de taylor \n",
    "=======================================\n",
    "programador : Marcelo Almeida\n",
    "'''\n",
    "from sympy import symbols, init_printing, cos,series, pi\n",
    "from sympy.plotting  import plot \n",
    "x = symbols('x', real =  True)\n",
    "fun = cos(x)\n",
    "# termos da serie de taylor de cos(x) :\n",
    "fun1 = series(fun,x,x0=0,n=1).removeO() # um termo \n",
    "fun3 = series(fun,x,x0=0,n=3).removeO() # tres termos \n",
    "fun5 = series(fun,x,x0=0,n=5).removeO() # cinco termos \n",
    "\n",
    "# plote da função e seus termos \n",
    "\n",
    "plot(fun,fun1,fun3,fun5,xlim=(-pi,pi),ylim=(-1,pi),xlabel='eixo x ', ylabel='eixo y', legend = True)"
   ]
  },
  {
   "cell_type": "markdown",
   "id": "754dffe5",
   "metadata": {},
   "source": [
    "**Série de Fourier**"
   ]
  },
  {
   "cell_type": "code",
   "execution_count": 1,
   "id": "0644d2f0",
   "metadata": {},
   "outputs": [
    {
     "data": {
      "image/png": "[encoded data removed]",
      "text/latex": [
       "$\\displaystyle \\frac{\\sin{\\left(x \\right)} \\int\\limits_{- \\pi}^{\\pi} f{\\left(x \\right)} \\sin{\\left(x \\right)}\\, dx}{\\pi} + \\frac{\\sin{\\left(2 x \\right)} \\int\\limits_{- \\pi}^{\\pi} f{\\left(x \\right)} \\sin{\\left(2 x \\right)}\\, dx}{\\pi} + \\frac{\\cos{\\left(x \\right)} \\int\\limits_{- \\pi}^{\\pi} f{\\left(x \\right)} \\cos{\\left(x \\right)}\\, dx}{\\pi} + \\frac{\\cos{\\left(2 x \\right)} \\int\\limits_{- \\pi}^{\\pi} f{\\left(x \\right)} \\cos{\\left(2 x \\right)}\\, dx}{\\pi} + \\frac{\\int\\limits_{- \\pi}^{\\pi} f{\\left(x \\right)}\\, dx}{2 \\pi} + \\ldots$"
      ],
      "text/plain": [
       "       π                            π                            π            \n",
       "       ⌠                            ⌠                            ⌠            \n",
       "sin(x)⋅⎮  f(x)⋅sin(x) dx   sin(2⋅x)⋅⎮  f(x)⋅sin(2⋅x) dx   cos(x)⋅⎮  f(x)⋅cos(x\n",
       "       ⌡                            ⌡                            ⌡            \n",
       "       -π                           -π                           -π           \n",
       "──────────────────────── + ──────────────────────────── + ────────────────────\n",
       "           π                            π                            π        \n",
       "\n",
       "                π                     π             \n",
       "                ⌠                     ⌠             \n",
       ") dx   cos(2⋅x)⋅⎮  f(x)⋅cos(2⋅x) dx   ⎮  f(x) dx    \n",
       "                ⌡                     ⌡             \n",
       "                -π                    -π            \n",
       "──── + ──────────────────────────── + ────────── + …\n",
       "                    π                    2⋅π        "
      ]
     },
     "execution_count": 1,
     "metadata": {},
     "output_type": "execute_result"
    }
   ],
   "source": [
    "'''\n",
    "descrição : criando a série de fourier de uma função \n",
    "desconhecida f(x)\n",
    "=========================================================\n",
    "programador : Marcelo Almeida \n",
    "'''\n",
    "from sympy import symbols, Function, fourier_series, init_printing\n",
    "init_printing(use_latex= True)\n",
    "\n",
    "# criando a variável independente x : \n",
    "x = symbols('x', real = True)\n",
    "f = Function('f')   # cria uma função indefinida \n",
    "\n",
    "# montando a serie de fourier :\n",
    "serie_f = fourier_series(f(x))\n",
    "serie_f"
   ]
  },
  {
   "cell_type": "code",
   "execution_count": 2,
   "id": "cacecdd3",
   "metadata": {},
   "outputs": [
    {
     "data": {
      "image/png": "[encoded data removed]",
      "text/latex": [
       "$\\displaystyle \\left[\\frac{\\cos{\\left(x \\right)} \\int\\limits_{- \\pi}^{\\pi} f{\\left(x \\right)} \\cos{\\left(x \\right)}\\, dx}{\\pi}, \\frac{\\cos{\\left(2 x \\right)} \\int\\limits_{- \\pi}^{\\pi} f{\\left(x \\right)} \\cos{\\left(2 x \\right)}\\, dx}{\\pi}, \\frac{\\cos{\\left(3 x \\right)} \\int\\limits_{- \\pi}^{\\pi} f{\\left(x \\right)} \\cos{\\left(3 x \\right)}\\, dx}{\\pi}, \\frac{\\cos{\\left(4 x \\right)} \\int\\limits_{- \\pi}^{\\pi} f{\\left(x \\right)} \\cos{\\left(4 x \\right)}\\, dx}{\\pi}, \\ldots\\right]$"
      ],
      "text/plain": [
       "⎡       π                           π                             π           \n",
       "⎢       ⌠                           ⌠                             ⌠           \n",
       "⎢cos(x)⋅⎮  f(x)⋅cos(x) dx  cos(2⋅x)⋅⎮  f(x)⋅cos(2⋅x) dx  cos(3⋅x)⋅⎮  f(x)⋅cos(\n",
       "⎢       ⌡                           ⌡                             ⌡           \n",
       "⎢       -π                          -π                            -π          \n",
       "⎢────────────────────────, ────────────────────────────, ─────────────────────\n",
       "⎣           π                           π                             π       \n",
       "\n",
       "                  π                     ⎤\n",
       "                  ⌠                     ⎥\n",
       "3⋅x) dx  cos(4⋅x)⋅⎮  f(x)⋅cos(4⋅x) dx   ⎥\n",
       "                  ⌡                     ⎥\n",
       "                  -π                    ⎥\n",
       "───────, ────────────────────────────, …⎥\n",
       "                      π                 ⎦"
      ]
     },
     "execution_count": 2,
     "metadata": {},
     "output_type": "execute_result"
    }
   ],
   "source": [
    "# obtendo o an \n",
    "serie_f.an"
   ]
  },
  {
   "cell_type": "code",
   "execution_count": 3,
   "id": "437ecd2c",
   "metadata": {},
   "outputs": [
    {
     "data": {
      "image/png": "[encoded data removed]",
      "text/latex": [
       "$\\displaystyle \\left[\\frac{\\sin{\\left(x \\right)} \\int\\limits_{- \\pi}^{\\pi} f{\\left(x \\right)} \\sin{\\left(x \\right)}\\, dx}{\\pi}, \\frac{\\sin{\\left(2 x \\right)} \\int\\limits_{- \\pi}^{\\pi} f{\\left(x \\right)} \\sin{\\left(2 x \\right)}\\, dx}{\\pi}, \\frac{\\sin{\\left(3 x \\right)} \\int\\limits_{- \\pi}^{\\pi} f{\\left(x \\right)} \\sin{\\left(3 x \\right)}\\, dx}{\\pi}, \\frac{\\sin{\\left(4 x \\right)} \\int\\limits_{- \\pi}^{\\pi} f{\\left(x \\right)} \\sin{\\left(4 x \\right)}\\, dx}{\\pi}, \\ldots\\right]$"
      ],
      "text/plain": [
       "⎡       π                           π                             π           \n",
       "⎢       ⌠                           ⌠                             ⌠           \n",
       "⎢sin(x)⋅⎮  f(x)⋅sin(x) dx  sin(2⋅x)⋅⎮  f(x)⋅sin(2⋅x) dx  sin(3⋅x)⋅⎮  f(x)⋅sin(\n",
       "⎢       ⌡                           ⌡                             ⌡           \n",
       "⎢       -π                          -π                            -π          \n",
       "⎢────────────────────────, ────────────────────────────, ─────────────────────\n",
       "⎣           π                           π                             π       \n",
       "\n",
       "                  π                     ⎤\n",
       "                  ⌠                     ⎥\n",
       "3⋅x) dx  sin(4⋅x)⋅⎮  f(x)⋅sin(4⋅x) dx   ⎥\n",
       "                  ⌡                     ⎥\n",
       "                  -π                    ⎥\n",
       "───────, ────────────────────────────, …⎥\n",
       "                      π                 ⎦"
      ]
     },
     "execution_count": 3,
     "metadata": {},
     "output_type": "execute_result"
    }
   ],
   "source": [
    "# obtendo o bn :\n",
    "serie_f.bn"
   ]
  },
  {
   "cell_type": "code",
   "execution_count": 4,
   "id": "69461378",
   "metadata": {},
   "outputs": [
    {
     "data": {
      "image/png": "[encoded data removed]",
      "text/latex": [
       "$\\displaystyle \\frac{\\int\\limits_{- \\pi}^{\\pi} f{\\left(x \\right)}\\, dx}{2 \\pi}$"
      ],
      "text/plain": [
       "π         \n",
       "⌠         \n",
       "⎮  f(x) dx\n",
       "⌡         \n",
       "-π        \n",
       "──────────\n",
       "   2⋅π    "
      ]
     },
     "execution_count": 4,
     "metadata": {},
     "output_type": "execute_result"
    }
   ],
   "source": [
    "# obtendo a0 \n",
    "serie_f.a0"
   ]
  },
  {
   "cell_type": "code",
   "execution_count": 5,
   "id": "50c7a32d",
   "metadata": {},
   "outputs": [
    {
     "data": {
      "image/png": "[encoded data removed]",
      "text/latex": [
       "$\\displaystyle 2 \\sin{\\left(x \\right)} - \\sin{\\left(2 x \\right)} + \\frac{2 \\sin{\\left(3 x \\right)}}{3} - \\frac{\\sin{\\left(4 x \\right)}}{2} + \\frac{2 \\sin{\\left(5 x \\right)}}{5}$"
      ],
      "text/plain": [
       "                      2⋅sin(3⋅x)   sin(4⋅x)   2⋅sin(5⋅x)\n",
       "2⋅sin(x) - sin(2⋅x) + ────────── - ──────── + ──────────\n",
       "                          3           2           5     "
      ]
     },
     "execution_count": 5,
     "metadata": {},
     "output_type": "execute_result"
    }
   ],
   "source": [
    "'''\n",
    "descrição : obtendo os cinco termos da \n",
    "serie de fourier de f(x) = x \n",
    "======================================\n",
    "programador : Marcelo Almeida \n",
    "'''\n",
    "from sympy import symbols, fourier_series, init_printing, pi \n",
    "init_printing(use_latex= True)\n",
    "\n",
    "x = symbols('x', real = True)\n",
    "\n",
    "fun = x \n",
    "\n",
    "f_series = fourier_series(fun,(x,-pi,pi)).truncate(5)\n",
    "\n",
    "f_series"
   ]
  },
  {
   "cell_type": "code",
   "execution_count": 6,
   "id": "90f3fa25",
   "metadata": {},
   "outputs": [
    {
     "data": {
      "image/png": "[encoded data removed]",
      "text/plain": [
       "<Figure size 432x288 with 1 Axes>"
      ]
     },
     "metadata": {
      "needs_background": "light"
     },
     "output_type": "display_data"
    }
   ],
   "source": [
    "from sympy.plotting import plot\n",
    "f_series = fourier_series(fun,(x,-pi,pi))\n",
    "f1 = f_series.truncate(3)\n",
    "f2 = f_series.truncate(5)\n",
    "f3 = f_series.truncate(7)\n",
    "p = plot(fun, f1, f2, f3, (x, -pi, pi), show=False, legend=True)\n",
    "p[0].line_color = (0, 0, 0)\n",
    "p[0].label = 'x'\n",
    "p[1].line_color = (0.7, 0.7, 0.7)\n",
    "p[1].label = 'n=3'\n",
    "p[2].line_color = (0.5, 0.5, 0.5)\n",
    "p[2].label = 'n=5'\n",
    "p[3].line_color = (0.3, 0.3, 0.3)\n",
    "p[3].label = 'n=7'\n",
    "p.show()\n",
    "\n"
   ]
  },
  {
   "cell_type": "code",
   "execution_count": null,
   "id": "e5231701",
   "metadata": {},
   "outputs": [],
   "source": []
  }
 ],
 "metadata": {
  "kernelspec": {
   "display_name": "Python 3 (ipykernel)",
   "language": "python",
   "name": "python3"
  },
  "language_info": {
   "codemirror_mode": {
    "name": "ipython",
    "version": 3
   },
   "file_extension": ".py",
   "mimetype": "text/x-python",
   "name": "python",
   "nbconvert_exporter": "python",
   "pygments_lexer": "ipython3",
   "version": "3.9.12"
  }
 },
 "nbformat": 4,
 "nbformat_minor": 5
}
